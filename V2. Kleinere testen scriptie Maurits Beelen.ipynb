{
 "cells": [
  {
   "cell_type": "code",
   "execution_count": 6,
   "id": "a4c0b51b-e6d1-48bb-b942-9bdbc6e68fc5",
   "metadata": {},
   "outputs": [
    {
     "name": "stdout",
     "output_type": "stream",
     "text": [
      "Ontbrekende priemgetallen: [2, 23, 47, 59, 71, 83, 107, 109, 113, 131, 139, 149, 167, 179, 191, 199, 227]\n"
     ]
    }
   ],
   "source": [
    "# Extra code voor aanvullende test die bekijken welke cyclische groepen voor de eerste 49 priemgetallen bestaan waarvoor alle \n",
    "# F_q primitive points double generators zijn.\n",
    "import pandas as pd\n",
    "from sympy import primerange\n",
    "\n",
    "# Laad CSV-bestand\n",
    "df = pd.read_csv(\"Alle cyclische groepen (1st 49 primes) waarvoor alle prim points double gen. zijn .csv\")\n",
    "\n",
    "# Zorg dat je de juiste kolom pakt (bijv. \"q\" of iets anders als dat de kolomnaam is)\n",
    "eerste_kolom = df[\"q\"].dropna().astype(int).unique().tolist()\n",
    "# Genereer eerste 49 priemgetallen\n",
    "eerste_49_priemen = list(primerange(2, 230))[:49]\n",
    "\n",
    "# Bepaal welke priemgetallen ontbreken\n",
    "ontbrekend = sorted(set(eerste_49_priemen) - set(eerste_kolom))\n",
    "\n",
    "print(\"Ontbrekende priemgetallen:\", ontbrekend)\n"
   ]
  },
  {
   "cell_type": "code",
   "execution_count": 10,
   "id": "4f54adc0-8dbf-4387-a7e8-1a1114746652",
   "metadata": {},
   "outputs": [],
   "source": [
    "# Deze code checkt voor alle eerste 25000 priemgetallen of de bound uit conjecture 3.5.6 waar is of niet. \n",
    "import pandas as pd\n",
    "\n",
    "# Snelle functie voor square-free divisor count via aantal unieke priemfactoren\n",
    "def square_free_divisor_count(n):\n",
    "    if n <= 0:\n",
    "        return 0\n",
    "    return 2 ** len(n.factor())\n",
    "\n",
    "# Genereer de eerste 25.000 priemgetallen, start vanaf q = 5\n",
    "prime_list = list(prime_range(5, 300000))[:25000]\n",
    "\n",
    "records = []\n",
    "for q in prime_list:\n",
    "    w1 = square_free_divisor_count(q - 1)\n",
    "    w2 = square_free_divisor_count((q - 1) // 2)\n",
    "    check = sqrt(q) > 4 * w1 * w2\n",
    "    records.append({\n",
    "        \"q\": int(q),\n",
    "        \"W(q-1)\": w1,\n",
    "        \"W((q-1)/2)\": w2,\n",
    "        \"Check\": bool(check)\n",
    "    })\n",
    "\n",
    "# Exporteer naar Excel-bestand\n",
    "df = pd.DataFrame(records)\n",
    "df.to_excel(\"prime_check_25000_fast.xlsx\", index=False)\n"
   ]
  },
  {
   "cell_type": "code",
   "execution_count": 12,
   "id": "cb92b825-1d91-471e-89ce-d689c5b2c1c7",
   "metadata": {},
   "outputs": [
    {
     "name": "stdout",
     "output_type": "stream",
     "text": [
      "✅ Bestand succesvol opgeslagen op bureaublad als: elliptic_check_400_20250522_115654.csv\n"
     ]
    }
   ],
   "source": [
    "#Deze code checkt of de condition uit conjecture 2.5.7 wordt voldaan voor de eerste 400 priemgetallen\n",
    "from sage.all import *\n",
    "import pandas as pd\n",
    "import os\n",
    "from datetime import datetime\n",
    "\n",
    "def W(n):\n",
    "    return len([d for d in divisors(n) if is_squarefree(d)])\n",
    "\n",
    "# Eerste 200 priemgetallen, q > 2\n",
    "primes = [p for p in primes_first_n(400) if p > 2]\n",
    "resultaten = []\n",
    "\n",
    "for q in primes:\n",
    "    Fq = GF(q)\n",
    "    W_q1 = W(q - 1)\n",
    "    W_q1div2 = W((q - 1) // 2) if (q - 1) % 2 == 0 else 0\n",
    "\n",
    "    for a in Fq:\n",
    "        if a == 0:\n",
    "            continue\n",
    "        try:\n",
    "            # y^2 = x^3 + ax (coëfficiëntenvorm [0, 0, 0, a, 0])\n",
    "            E = EllipticCurve(Fq, [0, 0, 0, a, 0])\n",
    "            N = E.cardinality()\n",
    "            W_N = W(N)\n",
    "            lhs = sqrt(q)\n",
    "            rhs = 4 * W_q1 * W_q1div2 * W_N\n",
    "            resultaat = bool(lhs > rhs)\n",
    "            resultaten.append({\n",
    "                \"q\": q,\n",
    "                \"a\": int(a),\n",
    "                \"N\": N,\n",
    "                \"W(q-1)\": W_q1,\n",
    "                \"W((q-1)/2)\": W_q1div2,\n",
    "                \"W(N)\": W_N,\n",
    "                \"q^(1/2) > 4*W(q-1)*W((q-1)/2)*W(N)\": resultaat\n",
    "            })\n",
    "        except Exception as e:\n",
    "            print(f\"⚠️ Fout bij q={q}, a={a}: {e}\")\n",
    "            continue\n",
    "\n",
    "# Exportbestand naar bureaublad\n",
    "timestamp = datetime.now().strftime(\"%Y%m%d_%H%M%S\")\n",
    "bestandsnaam = f\"elliptic_check_400_{timestamp}.csv\"\n",
    "pad = os.path.join(os.path.expanduser(\"~\"), \"Desktop\", bestandsnaam)\n",
    "\n",
    "df = pd.DataFrame(resultaten)\n",
    "df.to_csv(pad, index=False)\n",
    "\n",
    "print(f\"✅ Bestand succesvol opgeslagen op bureaublad als: {bestandsnaam}\")\n"
   ]
  },
  {
   "cell_type": "code",
   "execution_count": null,
   "id": "029e322e-9b42-4015-9cee-47f9b9aa4b6c",
   "metadata": {},
   "outputs": [],
   "source": [
    "# Deze code test of er in de eerste 50 priemwaarden q ook q's zijn waarvoor voor elke a er een double generator is.\n",
    "import pandas as pd\n",
    "\n",
    "# Laad het Excel-bestand\n",
    "df = pd.read_excel(\"Altijd_double_point.xlsx\")\n",
    "\n",
    "# Controleer per q of bij elke a de kolom 'double_points' niet leeg of '-' is\n",
    "# We nemen aan dat '-' betekent: geen double point\n",
    "\n",
    "per_q = df.groupby(\"q\").apply(lambda group: all(group[\"double_points\"] != \"-\"))\n",
    "\n",
    "# Selecteer alleen de q's waar dit voor geldt\n",
    "allemaal_double = per_q[per_q].index.tolist()\n",
    "\n",
    "print(f\"✅ Aantal priemgetallen waarvoor elke a minstens één double point oplevert: {len(allemaal_double)}\")\n",
    "print(\"Deze priemgetallen zijn:\", allemaal_double)"
   ]
  },
  {
   "cell_type": "code",
   "execution_count": 14,
   "id": "6591b097-8674-4001-9d55-121a43be0a13",
   "metadata": {},
   "outputs": [
    {
     "name": "stdout",
     "output_type": "stream",
     "text": [
      "✅ Aantal priemgetallen waarvoor elke a minstens één double point oplevert: 0\n",
      "Deze priemgetallen zijn: []\n"
     ]
    }
   ],
   "source": [
    "# Deze code test of er in de tweede 50 priemwaarden q ook q's zijn waarvoor voor elke a er een double generator is.\n",
    "import pandas as pd\n",
    "\n",
    "# Laad het Excel-bestand\n",
    "df = pd.read_excel(\"Altijd_double_point_2th.xlsx\")\n",
    "\n",
    "# Controleer per q of bij elke a de kolom 'double_points' niet leeg of '-' is\n",
    "# We nemen aan dat '-' betekent: geen double point\n",
    "\n",
    "per_q = df.groupby(\"q\").apply(lambda group: all(group[\"double_points\"] != \"-\"))\n",
    "\n",
    "# Selecteer alleen de q's waar dit voor geldt\n",
    "allemaal_double = per_q[per_q].index.tolist()\n",
    "\n",
    "print(f\"✅ Aantal priemgetallen waarvoor elke a minstens één double point oplevert: {len(allemaal_double)}\")\n",
    "print(\"Deze priemgetallen zijn:\", allemaal_double)\n"
   ]
  },
  {
   "cell_type": "code",
   "execution_count": 15,
   "id": "54b7a03b-95fb-4da7-a882-f359ffe89177",
   "metadata": {},
   "outputs": [
    {
     "data": {
      "image/png": "[encoded data removed]",
      "text/plain": [
       "Graphics object consisting of 10 graphics primitives"
      ]
     },
     "metadata": {},
     "output_type": "display_data"
    }
   ],
   "source": [
    "# Extra code om plaatje te maken, nog niet gebruikt.\n",
    "# Definieer de punten\n",
    "punten = [(0, 0), (2, 3), (2, 4), (3, 2), (3, 5), (6, 3), (6, 4)]\n",
    "\n",
    "# Plot alle punten behalve de double point\n",
    "gewone_punten = [p for p in punten if p != (3, 5)]\n",
    "plot_gewone = sum([point(p, size=30, color='steelblue') for p in gewone_punten])\n",
    "\n",
    "# Plot het speciale punt (3,5) in een contrasterende kleur\n",
    "plot_special = point((3, 5), size=40, color='crimson')\n",
    "\n",
    "# Annotatie bij het speciale punt\n",
    "annotatie = text(r\"\\textbf{Double point}\", (3.8, 5.2), fontsize=14, color='black')\n",
    "\n",
    "# Assenlabels verder van het midden en in mooie stijl\n",
    "assenlabels = (\n",
    "    text(r\"$\\mathbb{F}_q$\", (6.8, -0.6), fontsize=16, color='black') +\n",
    "    text(r\"$\\mathbb{F}_q$\", (-0.8, 6.8), rotation=90, fontsize=16, color='black')\n",
    ")\n",
    "\n",
    "# Combineer alles\n",
    "plot = plot_gewone + plot_special + annotatie + assenlabels\n",
    "plot.axes(False)  # Geen numerieke assen\n",
    "plot.set_axes_range(xmin=-1, xmax=7, ymin=-1, ymax=7)\n",
    "plot.show(gridlines=True, frame=True, figsize=6)\n"
   ]
  }
 ],
 "metadata": {
  "kernelspec": {
   "display_name": "SageMath 10.6",
   "language": "sage",
   "name": "sagemath-10.6"
  },
  "language_info": {
   "codemirror_mode": {
    "name": "ipython",
    "version": 3
   },
   "file_extension": ".py",
   "mimetype": "text/x-python",
   "name": "python",
   "nbconvert_exporter": "python",
   "pygments_lexer": "ipython3",
   "version": "3.12.5"
  }
 },
 "nbformat": 4,
 "nbformat_minor": 5
}
