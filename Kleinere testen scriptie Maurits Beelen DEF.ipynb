{
 "cells": [
  {
   "cell_type": "code",
   "execution_count": 6,
   "id": "a4c0b51b-e6d1-48bb-b942-9bdbc6e68fc5",
   "metadata": {},
   "outputs": [
    {
     "name": "stdout",
     "output_type": "stream",
     "text": [
      "Ontbrekende priemgetallen: [2, 23, 47, 59, 71, 83, 107, 109, 113, 131, 139, 149, 167, 179, 191, 199, 227]\n"
     ]
    }
   ],
   "source": [
    "import pandas as pd\n",
    "from sympy import primerange\n",
    "\n",
    "# Laad CSV-bestand\n",
    "df = pd.read_csv(\"Alle cyclische groepen (1st 49 primes) waarvoor alle prim points double gen. zijn .csv\")\n",
    "\n",
    "# Zorg dat je de juiste kolom pakt (bijv. \"q\" of iets anders als dat de kolomnaam is)\n",
    "eerste_kolom = df[\"q\"].dropna().astype(int).unique().tolist()\n",
    "# Genereer eerste 49 priemgetallen\n",
    "eerste_49_priemen = list(primerange(2, 230))[:49]\n",
    "\n",
    "# Bepaal welke priemgetallen ontbreken\n",
    "ontbrekend = sorted(set(eerste_49_priemen) - set(eerste_kolom))\n",
    "\n",
    "print(\"Ontbrekende priemgetallen:\", ontbrekend)\n"
   ]
  }
 ],
 "metadata": {
  "kernelspec": {
   "display_name": "SageMath 10.6",
   "language": "sage",
   "name": "sagemath-10.6"
  },
  "language_info": {
   "codemirror_mode": {
    "name": "ipython",
    "version": 3
   },
   "file_extension": ".py",
   "mimetype": "text/x-python",
   "name": "python",
   "nbconvert_exporter": "python",
   "pygments_lexer": "ipython3",
   "version": "3.12.5"
  }
 },
 "nbformat": 4,
 "nbformat_minor": 5
}
